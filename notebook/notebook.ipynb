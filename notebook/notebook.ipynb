{
  "cells": [
    {
      "cell_type": "markdown",
      "metadata": {
        "id": "EMMvNbK2N2f1"
      },
      "source": [
        "# Skin Cancer Classification: Case Study and Implementation\n",
        "\n",
        "## Problem Statement\n",
        "\n",
        "Late skin cancer diagnosis in Africa, driven by limited diagnostic access, high treatment costs, and socio-cultural barriers, results in high mortality rates. In 2020, skin cancer accounted for approximately 10,000 deaths annually in Africa, with over 90% of cases diagnosed at advanced stages due to inadequate healthcare infrastructure (GLOBOCAN 2020). Current solutions, such as mobile health units and WHO screening programs, are constrained by insufficient funding, limited reach, and stigma, necessitating an accessible, low-cost, and accurate diagnostic tool for early detection to improve outcomes in underserved communities.\n",
        "\n",
        "## Objective\n",
        "\n",
        "Develop a modular machine learning pipeline using XGBoost to classify skin lesion images as benign or malignant, with data augmentation, hyperparameter tuning, and a retraining mechanism. The pipeline is split into `preprocessing.py`, `model.py`, and `prediction.py`, with this notebook demonstrating the full workflow and evaluation metrics.\n",
        "\n",
        "## Dataset\n",
        "\n",
        "- **Source**: ISIC dataset.\n",
        "- **Structure**: `data/train/` and `data/test/` with subfolders `benign/` and `malignant/`.\n",
        "- **Preprocessing**: Images resized to 172x251, normalized, and flattened for XGBoost. Training data includes augmentation (rotations, flips, brightness, grayscale).\n",
        "\n",
        "## Requirements\n",
        "\n",
        "```bash\n",
        "pip install numpy pillow tensorflow scikit-learn xgboost matplotlib seaborn scikit-plot\n",
        "```"
      ]
    },
    {
      "cell_type": "markdown",
      "metadata": {
        "id": "qGqC0agfN2f5"
      },
      "source": [
        "## Step 1: Import Dependencies and Scripts\n",
        "\n",
        "Import the necessary libraries and our modular scripts from the `src/` directory."
      ]
    },
    {
      "cell_type": "code",
      "execution_count": 1,
      "metadata": {
        "id": "C8tD81bDN2f5"
      },
      "outputs": [
        {
          "name": "stderr",
          "output_type": "stream",
          "text": [
            "c:\\Users\\TestSolutions\\Desktop\\Summative - ML Pipeline\\venv\\Lib\\site-packages\\google\\protobuf\\runtime_version.py:98: UserWarning: Protobuf gencode version 5.28.3 is exactly one major version older than the runtime version 6.31.1 at tensorflow/core/framework/attr_value.proto. Please update the gencode to avoid compatibility violations in the next runtime release.\n",
            "  warnings.warn(\n",
            "c:\\Users\\TestSolutions\\Desktop\\Summative - ML Pipeline\\venv\\Lib\\site-packages\\google\\protobuf\\runtime_version.py:98: UserWarning: Protobuf gencode version 5.28.3 is exactly one major version older than the runtime version 6.31.1 at tensorflow/core/framework/tensor.proto. Please update the gencode to avoid compatibility violations in the next runtime release.\n",
            "  warnings.warn(\n",
            "c:\\Users\\TestSolutions\\Desktop\\Summative - ML Pipeline\\venv\\Lib\\site-packages\\google\\protobuf\\runtime_version.py:98: UserWarning: Protobuf gencode version 5.28.3 is exactly one major version older than the runtime version 6.31.1 at tensorflow/core/framework/resource_handle.proto. Please update the gencode to avoid compatibility violations in the next runtime release.\n",
            "  warnings.warn(\n",
            "c:\\Users\\TestSolutions\\Desktop\\Summative - ML Pipeline\\venv\\Lib\\site-packages\\google\\protobuf\\runtime_version.py:98: UserWarning: Protobuf gencode version 5.28.3 is exactly one major version older than the runtime version 6.31.1 at tensorflow/core/framework/tensor_shape.proto. Please update the gencode to avoid compatibility violations in the next runtime release.\n",
            "  warnings.warn(\n",
            "c:\\Users\\TestSolutions\\Desktop\\Summative - ML Pipeline\\venv\\Lib\\site-packages\\google\\protobuf\\runtime_version.py:98: UserWarning: Protobuf gencode version 5.28.3 is exactly one major version older than the runtime version 6.31.1 at tensorflow/core/framework/types.proto. Please update the gencode to avoid compatibility violations in the next runtime release.\n",
            "  warnings.warn(\n",
            "c:\\Users\\TestSolutions\\Desktop\\Summative - ML Pipeline\\venv\\Lib\\site-packages\\google\\protobuf\\runtime_version.py:98: UserWarning: Protobuf gencode version 5.28.3 is exactly one major version older than the runtime version 6.31.1 at tensorflow/core/framework/full_type.proto. Please update the gencode to avoid compatibility violations in the next runtime release.\n",
            "  warnings.warn(\n",
            "c:\\Users\\TestSolutions\\Desktop\\Summative - ML Pipeline\\venv\\Lib\\site-packages\\google\\protobuf\\runtime_version.py:98: UserWarning: Protobuf gencode version 5.28.3 is exactly one major version older than the runtime version 6.31.1 at tensorflow/core/framework/function.proto. Please update the gencode to avoid compatibility violations in the next runtime release.\n",
            "  warnings.warn(\n",
            "c:\\Users\\TestSolutions\\Desktop\\Summative - ML Pipeline\\venv\\Lib\\site-packages\\google\\protobuf\\runtime_version.py:98: UserWarning: Protobuf gencode version 5.28.3 is exactly one major version older than the runtime version 6.31.1 at tensorflow/core/framework/node_def.proto. Please update the gencode to avoid compatibility violations in the next runtime release.\n",
            "  warnings.warn(\n",
            "c:\\Users\\TestSolutions\\Desktop\\Summative - ML Pipeline\\venv\\Lib\\site-packages\\google\\protobuf\\runtime_version.py:98: UserWarning: Protobuf gencode version 5.28.3 is exactly one major version older than the runtime version 6.31.1 at tensorflow/core/framework/op_def.proto. Please update the gencode to avoid compatibility violations in the next runtime release.\n",
            "  warnings.warn(\n",
            "c:\\Users\\TestSolutions\\Desktop\\Summative - ML Pipeline\\venv\\Lib\\site-packages\\google\\protobuf\\runtime_version.py:98: UserWarning: Protobuf gencode version 5.28.3 is exactly one major version older than the runtime version 6.31.1 at tensorflow/core/framework/graph.proto. Please update the gencode to avoid compatibility violations in the next runtime release.\n",
            "  warnings.warn(\n",
            "c:\\Users\\TestSolutions\\Desktop\\Summative - ML Pipeline\\venv\\Lib\\site-packages\\google\\protobuf\\runtime_version.py:98: UserWarning: Protobuf gencode version 5.28.3 is exactly one major version older than the runtime version 6.31.1 at tensorflow/core/framework/graph_debug_info.proto. Please update the gencode to avoid compatibility violations in the next runtime release.\n",
            "  warnings.warn(\n",
            "c:\\Users\\TestSolutions\\Desktop\\Summative - ML Pipeline\\venv\\Lib\\site-packages\\google\\protobuf\\runtime_version.py:98: UserWarning: Protobuf gencode version 5.28.3 is exactly one major version older than the runtime version 6.31.1 at tensorflow/core/framework/versions.proto. Please update the gencode to avoid compatibility violations in the next runtime release.\n",
            "  warnings.warn(\n",
            "c:\\Users\\TestSolutions\\Desktop\\Summative - ML Pipeline\\venv\\Lib\\site-packages\\google\\protobuf\\runtime_version.py:98: UserWarning: Protobuf gencode version 5.28.3 is exactly one major version older than the runtime version 6.31.1 at tensorflow/core/protobuf/config.proto. Please update the gencode to avoid compatibility violations in the next runtime release.\n",
            "  warnings.warn(\n",
            "c:\\Users\\TestSolutions\\Desktop\\Summative - ML Pipeline\\venv\\Lib\\site-packages\\google\\protobuf\\runtime_version.py:98: UserWarning: Protobuf gencode version 5.28.3 is exactly one major version older than the runtime version 6.31.1 at xla/tsl/protobuf/coordination_config.proto. Please update the gencode to avoid compatibility violations in the next runtime release.\n",
            "  warnings.warn(\n",
            "c:\\Users\\TestSolutions\\Desktop\\Summative - ML Pipeline\\venv\\Lib\\site-packages\\google\\protobuf\\runtime_version.py:98: UserWarning: Protobuf gencode version 5.28.3 is exactly one major version older than the runtime version 6.31.1 at tensorflow/core/framework/cost_graph.proto. Please update the gencode to avoid compatibility violations in the next runtime release.\n",
            "  warnings.warn(\n",
            "c:\\Users\\TestSolutions\\Desktop\\Summative - ML Pipeline\\venv\\Lib\\site-packages\\google\\protobuf\\runtime_version.py:98: UserWarning: Protobuf gencode version 5.28.3 is exactly one major version older than the runtime version 6.31.1 at tensorflow/core/framework/step_stats.proto. Please update the gencode to avoid compatibility violations in the next runtime release.\n",
            "  warnings.warn(\n",
            "c:\\Users\\TestSolutions\\Desktop\\Summative - ML Pipeline\\venv\\Lib\\site-packages\\google\\protobuf\\runtime_version.py:98: UserWarning: Protobuf gencode version 5.28.3 is exactly one major version older than the runtime version 6.31.1 at tensorflow/core/framework/allocation_description.proto. Please update the gencode to avoid compatibility violations in the next runtime release.\n",
            "  warnings.warn(\n",
            "c:\\Users\\TestSolutions\\Desktop\\Summative - ML Pipeline\\venv\\Lib\\site-packages\\google\\protobuf\\runtime_version.py:98: UserWarning: Protobuf gencode version 5.28.3 is exactly one major version older than the runtime version 6.31.1 at tensorflow/core/framework/tensor_description.proto. Please update the gencode to avoid compatibility violations in the next runtime release.\n",
            "  warnings.warn(\n",
            "c:\\Users\\TestSolutions\\Desktop\\Summative - ML Pipeline\\venv\\Lib\\site-packages\\google\\protobuf\\runtime_version.py:98: UserWarning: Protobuf gencode version 5.28.3 is exactly one major version older than the runtime version 6.31.1 at tensorflow/core/protobuf/cluster.proto. Please update the gencode to avoid compatibility violations in the next runtime release.\n",
            "  warnings.warn(\n",
            "c:\\Users\\TestSolutions\\Desktop\\Summative - ML Pipeline\\venv\\Lib\\site-packages\\google\\protobuf\\runtime_version.py:98: UserWarning: Protobuf gencode version 5.28.3 is exactly one major version older than the runtime version 6.31.1 at tensorflow/core/protobuf/debug.proto. Please update the gencode to avoid compatibility violations in the next runtime release.\n",
            "  warnings.warn(\n"
          ]
        }
      ],
      "source": [
        "import os\n",
        "import sys\n",
        "sys.path.append('C:\\\\Users\\\\TestSolutions\\\\Desktop\\\\Summative - ML Pipeline')\n",
        "import numpy as np\n",
        "import matplotlib.pyplot as plt\n",
        "import seaborn as sns\n",
        "from sklearn.metrics import roc_curve, auc\n",
        "from src.preprocessing import load_dataset, preprocess_single_image\n",
        "from src.model import create_model, train_model, evaluate_model, save_model, trigger_retrain\n",
        "from src.prediction import load_model, predict_single_image, predict_batch\n",
        "\n",
        "# Set paths\n",
        "train_dir = '../data/train'\n",
        "test_dir = '../data/test'\n",
        "model_path = '../models/optimized_xgb_model.pkl'\n",
        "new_data_dir = '../data/new_data'  # For retraining\n",
        "os.makedirs('../models', exist_ok=True)"
      ]
    },
    {
      "cell_type": "markdown",
      "metadata": {
        "id": "saMexRtLN2f7"
      },
      "source": [
        "## Step 2: Load and Preprocess Data\n",
        "\n",
        "Load the training and test datasets using `preprocessing.py`, applying augmentation to training data and no augmentation to test data."
      ]
    },
    {
      "cell_type": "code",
      "execution_count": 2,
      "metadata": {
        "id": "RdlskJFfN2f7"
      },
      "outputs": [
        {
          "name": "stderr",
          "output_type": "stream",
          "text": [
            "2025-07-31 14:56:23,356 - INFO - Attempting to load dataset from: c:\\Users\\TestSolutions\\Desktop\\Summative - ML Pipeline\\data\\train\n",
            "2025-07-31 14:56:23,359 - INFO - Checking benign directory: c:\\Users\\TestSolutions\\Desktop\\Summative - ML Pipeline\\data\\train\\benign\n",
            "2025-07-31 14:56:23,361 - INFO - Checking malignant directory: c:\\Users\\TestSolutions\\Desktop\\Summative - ML Pipeline\\data\\train\\malignant\n",
            "2025-07-31 14:56:23,368 - INFO - Found 139 images in c:\\Users\\TestSolutions\\Desktop\\Summative - ML Pipeline\\data\\train (benign: 48, malignant: 91)\n"
          ]
        },
        {
          "name": "stdout",
          "output_type": "stream",
          "text": [
            "Found 139 images belonging to 2 classes.\n"
          ]
        },
        {
          "name": "stderr",
          "output_type": "stream",
          "text": [
            "2025-07-31 14:56:23,426 - INFO - Loaded dataset from c:\\Users\\TestSolutions\\Desktop\\Summative - ML Pipeline\\data\\train with 139 samples\n",
            "2025-07-31 14:56:23,429 - INFO - Attempting to load dataset from: c:\\Users\\TestSolutions\\Desktop\\Summative - ML Pipeline\\data\\test\n",
            "2025-07-31 14:56:23,430 - INFO - Checking benign directory: c:\\Users\\TestSolutions\\Desktop\\Summative - ML Pipeline\\data\\test\\benign\n",
            "2025-07-31 14:56:23,431 - INFO - Checking malignant directory: c:\\Users\\TestSolutions\\Desktop\\Summative - ML Pipeline\\data\\test\\malignant\n",
            "2025-07-31 14:56:23,435 - INFO - Found 56 images in c:\\Users\\TestSolutions\\Desktop\\Summative - ML Pipeline\\data\\test (benign: 19, malignant: 37)\n"
          ]
        },
        {
          "name": "stdout",
          "output_type": "stream",
          "text": [
            "Loaded 139 training samples\n",
            "Found 56 images belonging to 2 classes.\n"
          ]
        },
        {
          "name": "stderr",
          "output_type": "stream",
          "text": [
            "2025-07-31 14:56:23,472 - INFO - Loaded dataset from c:\\Users\\TestSolutions\\Desktop\\Summative - ML Pipeline\\data\\test with 56 samples\n"
          ]
        },
        {
          "name": "stdout",
          "output_type": "stream",
          "text": [
            "Loaded 56 test samples\n"
          ]
        }
      ],
      "source": [
        "# Load training data with augmentation\n",
        "train_gen, train_samples = load_dataset(train_dir, batch_size=32, augmentation=True, normalize=True)\n",
        "print(f'Loaded {train_samples} training samples')\n",
        "\n",
        "# Load test data without augmentation\n",
        "test_gen, test_samples = load_dataset(test_dir, batch_size=32, augmentation=False, normalize=True)\n",
        "print(f'Loaded {test_samples} test samples')"
      ]
    },
    {
      "cell_type": "markdown",
      "metadata": {
        "id": "vi1is166N2f7"
      },
      "source": [
        "## Step 3: Train the Model\n",
        "\n",
        "Create and train the XGBoost model with hyperparameter tuning using `model.py`."
      ]
    },
    {
      "cell_type": "code",
      "execution_count": 3,
      "metadata": {
        "id": "jW81JOp8N2f8"
      },
      "outputs": [
        {
          "name": "stderr",
          "output_type": "stream",
          "text": [
            "2025-07-31 14:56:23,496 - INFO - XGBoost model created successfully\n",
            "2025-07-31 14:56:23,500 - INFO - Attempting to load dataset from: c:\\Users\\TestSolutions\\Desktop\\Summative - ML Pipeline\\data\\train\n",
            "2025-07-31 14:56:23,502 - INFO - Checking benign directory: c:\\Users\\TestSolutions\\Desktop\\Summative - ML Pipeline\\data\\train\\benign\n",
            "2025-07-31 14:56:23,504 - INFO - Checking malignant directory: c:\\Users\\TestSolutions\\Desktop\\Summative - ML Pipeline\\data\\train\\malignant\n",
            "2025-07-31 14:56:23,509 - INFO - Found 139 images in c:\\Users\\TestSolutions\\Desktop\\Summative - ML Pipeline\\data\\train (benign: 48, malignant: 91)\n"
          ]
        },
        {
          "name": "stdout",
          "output_type": "stream",
          "text": [
            "Found 139 images belonging to 2 classes.\n"
          ]
        },
        {
          "name": "stderr",
          "output_type": "stream",
          "text": [
            "2025-07-31 14:56:23,570 - INFO - Loaded dataset from c:\\Users\\TestSolutions\\Desktop\\Summative - ML Pipeline\\data\\train with 139 samples\n",
            "2025-07-31 14:56:23,571 - INFO - Loaded 139 training samples\n",
            "2025-07-31 14:56:52,831 - ERROR - Error training model: \n",
            "All the 81 fits failed.\n",
            "It is very likely that your model is misconfigured.\n",
            "You can try to debug the error by setting error_score='raise'.\n",
            "\n",
            "Below are more details about the failures:\n",
            "--------------------------------------------------------------------------------\n",
            "81 fits failed with the following error:\n",
            "Traceback (most recent call last):\n",
            "  File \"c:\\Users\\TestSolutions\\Desktop\\Summative - ML Pipeline\\venv\\Lib\\site-packages\\sklearn\\model_selection\\_validation.py\", line 859, in _fit_and_score\n",
            "    estimator.fit(X_train, y_train, **fit_params)\n",
            "    ~~~~~~~~~~~~~^^^^^^^^^^^^^^^^^^^^^^^^^^^^^^^^\n",
            "  File \"c:\\Users\\TestSolutions\\Desktop\\Summative - ML Pipeline\\venv\\Lib\\site-packages\\xgboost\\core.py\", line 729, in inner_f\n",
            "    return func(**kwargs)\n",
            "  File \"c:\\Users\\TestSolutions\\Desktop\\Summative - ML Pipeline\\venv\\Lib\\site-packages\\xgboost\\sklearn.py\", line 1664, in fit\n",
            "    train_dmatrix, evals = _wrap_evaluation_matrices(\n",
            "                           ~~~~~~~~~~~~~~~~~~~~~~~~~^\n",
            "        missing=self.missing,\n",
            "        ^^^^^^^^^^^^^^^^^^^^^\n",
            "    ...<14 lines>...\n",
            "        feature_types=self.feature_types,\n",
            "        ^^^^^^^^^^^^^^^^^^^^^^^^^^^^^^^^^\n",
            "    )\n",
            "    ^\n",
            "  File \"c:\\Users\\TestSolutions\\Desktop\\Summative - ML Pipeline\\venv\\Lib\\site-packages\\xgboost\\sklearn.py\", line 628, in _wrap_evaluation_matrices\n",
            "    train_dmatrix = create_dmatrix(\n",
            "        data=X,\n",
            "    ...<9 lines>...\n",
            "        ref=None,\n",
            "    )\n",
            "  File \"c:\\Users\\TestSolutions\\Desktop\\Summative - ML Pipeline\\venv\\Lib\\site-packages\\xgboost\\sklearn.py\", line 1137, in _create_dmatrix\n",
            "    return QuantileDMatrix(\n",
            "        **kwargs, ref=ref, nthread=self.n_jobs, max_bin=self.max_bin\n",
            "    )\n",
            "  File \"c:\\Users\\TestSolutions\\Desktop\\Summative - ML Pipeline\\venv\\Lib\\site-packages\\xgboost\\core.py\", line 729, in inner_f\n",
            "    return func(**kwargs)\n",
            "  File \"c:\\Users\\TestSolutions\\Desktop\\Summative - ML Pipeline\\venv\\Lib\\site-packages\\xgboost\\core.py\", line 1614, in __init__\n",
            "    self._init(\n",
            "    ~~~~~~~~~~^\n",
            "        data,\n",
            "        ^^^^^\n",
            "    ...<12 lines>...\n",
            "        max_quantile_blocks=max_quantile_batches,\n",
            "        ^^^^^^^^^^^^^^^^^^^^^^^^^^^^^^^^^^^^^^^^^\n",
            "    )\n",
            "    ^\n",
            "  File \"c:\\Users\\TestSolutions\\Desktop\\Summative - ML Pipeline\\venv\\Lib\\site-packages\\xgboost\\core.py\", line 1678, in _init\n",
            "    it.reraise()\n",
            "    ~~~~~~~~~~^^\n",
            "  File \"c:\\Users\\TestSolutions\\Desktop\\Summative - ML Pipeline\\venv\\Lib\\site-packages\\xgboost\\core.py\", line 572, in reraise\n",
            "    raise exc  # pylint: disable=raising-bad-type\n",
            "    ^^^^^^^^^\n",
            "  File \"c:\\Users\\TestSolutions\\Desktop\\Summative - ML Pipeline\\venv\\Lib\\site-packages\\xgboost\\core.py\", line 553, in _handle_exception\n",
            "    return fn()\n",
            "  File \"c:\\Users\\TestSolutions\\Desktop\\Summative - ML Pipeline\\venv\\Lib\\site-packages\\xgboost\\core.py\", line 640, in <lambda>\n",
            "    return self._handle_exception(lambda: int(self.next(input_data)), 0)\n",
            "                                              ~~~~~~~~~^^^^^^^^^^^^\n",
            "  File \"c:\\Users\\TestSolutions\\Desktop\\Summative - ML Pipeline\\venv\\Lib\\site-packages\\xgboost\\data.py\", line 1654, in next\n",
            "    input_data(**self.kwargs)\n",
            "    ~~~~~~~~~~^^^^^^^^^^^^^^^\n",
            "  File \"c:\\Users\\TestSolutions\\Desktop\\Summative - ML Pipeline\\venv\\Lib\\site-packages\\xgboost\\core.py\", line 729, in inner_f\n",
            "    return func(**kwargs)\n",
            "  File \"c:\\Users\\TestSolutions\\Desktop\\Summative - ML Pipeline\\venv\\Lib\\site-packages\\xgboost\\core.py\", line 628, in input_data\n",
            "    dispatch_proxy_set_data(self.proxy, new, cat_codes)\n",
            "    ~~~~~~~~~~~~~~~~~~~~~~~^^^^^^^^^^^^^^^^^^^^^^^^^^^^\n",
            "  File \"c:\\Users\\TestSolutions\\Desktop\\Summative - ML Pipeline\\venv\\Lib\\site-packages\\xgboost\\data.py\", line 1730, in dispatch_proxy_set_data\n",
            "    _check_data_shape(data)\n",
            "    ~~~~~~~~~~~~~~~~~^^^^^^\n",
            "  File \"c:\\Users\\TestSolutions\\Desktop\\Summative - ML Pipeline\\venv\\Lib\\site-packages\\xgboost\\data.py\", line 86, in _check_data_shape\n",
            "    raise ValueError(\"Please reshape the input data into 2-dimensional matrix.\")\n",
            "ValueError: Please reshape the input data into 2-dimensional matrix.\n",
            "\n"
          ]
        },
        {
          "name": "stdout",
          "output_type": "stream",
          "text": [
            "Model training failed.\n"
          ]
        }
      ],
      "source": [
        "# Create and train model\n",
        "model = create_model()\n",
        "if model:\n",
        "    model = train_model(model, train_dir, batch_size=32, tune_hyperparameters=True)\n",
        "    if model:\n",
        "        save_model(model, model_path)\n",
        "    else:\n",
        "        print('Model training failed.')\n",
        "else:\n",
        "    print('Model creation failed.')"
      ]
    },
    {
      "cell_type": "markdown",
      "metadata": {
        "id": "Q_s31WhrN2f8"
      },
      "source": [
        "## Step 4: Evaluate the Model\n",
        "\n",
        "Evaluate the model on the test dataset and display metrics (accuracy, precision, recall, F1-score, confusion matrix)."
      ]
    },
    {
      "cell_type": "code",
      "execution_count": 4,
      "metadata": {
        "id": "07OAv_t6N2f9"
      },
      "outputs": [
        {
          "name": "stdout",
          "output_type": "stream",
          "text": [
            "No model available for evaluation.\n"
          ]
        }
      ],
      "source": [
        "if model:\n",
        "    metrics = evaluate_model(model, test_dir, batch_size=32)\n",
        "    if metrics:\n",
        "        print('Evaluation Metrics:')\n",
        "        for key, value in metrics.items():\n",
        "            if key != 'confusion_matrix':\n",
        "                print(f'{key}: {value:.4f}')\n",
        "            else:\n",
        "                print(f'{key}:\\n{np.array(value)}')\n",
        "\n",
        "        # Visualize confusion matrix\n",
        "        cm = np.array(metrics['confusion_matrix'])\n",
        "        plt.figure(figsize=(6, 4))\n",
        "        sns.heatmap(cm, annot=True, fmt='d', cmap='Blues', xticklabels=['Benign', 'Malignant'], yticklabels=['Benign', 'Malignant'])\n",
        "        plt.title('Confusion Matrix')\n",
        "        plt.xlabel('Predicted')\n",
        "        plt.ylabel('True')\n",
        "        plt.show()\n",
        "\n",
        "        # ROC Curve\n",
        "        test_gen, _ = load_dataset(test_dir, batch_size=32, augmentation=False, normalize=True)\n",
        "        X_test, y_test = [], []\n",
        "        for _ in range(test_samples // 32 + 1):\n",
        "            batch_x, batch_y = next(test_gen)\n",
        "            X_test.append(batch_x)\n",
        "            y_test.append(batch_y)\n",
        "        X_test = np.vstack(X_test)\n",
        "        y_test = np.hstack(y_test)\n",
        "        y_scores = model.predict_proba(X_test)[:, 1]\n",
        "        skplt.metrics.plot_roc(y_test, model.predict_proba(X_test), plot_micro=False, plot_macro=False, classes_to_plot=[1])\n",
        "        plt.title('ROC Curve for Malignant Class')\n",
        "        plt.show()\n",
        "else:\n",
        "    print('No model available for evaluation.')"
      ]
    },
    {
      "cell_type": "markdown",
      "metadata": {
        "id": "GqcjFCBWN2f9"
      },
      "source": [
        "## Step 5: Make Predictions\n",
        "\n",
        "Demonstrate single-image and batch predictions using `prediction.py`. Note: Replace `sample_image` with an actual image path from your dataset."
      ]
    },
    {
      "cell_type": "code",
      "execution_count": 5,
      "metadata": {
        "id": "8k4P4mEyN2f9"
      },
      "outputs": [
        {
          "name": "stderr",
          "output_type": "stream",
          "text": [
            "2025-07-31 14:56:53,005 - INFO - Attempting to load dataset from: c:\\Users\\TestSolutions\\Desktop\\Summative - ML Pipeline\\data\\test\n",
            "2025-07-31 14:56:53,010 - INFO - Checking benign directory: c:\\Users\\TestSolutions\\Desktop\\Summative - ML Pipeline\\data\\test\\benign\n",
            "2025-07-31 14:56:53,018 - INFO - Checking malignant directory: c:\\Users\\TestSolutions\\Desktop\\Summative - ML Pipeline\\data\\test\\malignant\n",
            "2025-07-31 14:56:53,030 - INFO - Found 56 images in c:\\Users\\TestSolutions\\Desktop\\Summative - ML Pipeline\\data\\test (benign: 19, malignant: 37)\n"
          ]
        },
        {
          "name": "stdout",
          "output_type": "stream",
          "text": [
            "Found 56 images belonging to 2 classes.\n"
          ]
        },
        {
          "name": "stderr",
          "output_type": "stream",
          "text": [
            "2025-07-31 14:56:53,204 - INFO - Loaded dataset from c:\\Users\\TestSolutions\\Desktop\\Summative - ML Pipeline\\data\\test with 56 samples\n",
            "2025-07-31 14:56:53,206 - INFO - Loaded 56 test samples for batch prediction\n",
            "2025-07-31 14:56:54,078 - ERROR - Error in batch prediction: 'NoneType' object has no attribute 'predict_proba'\n"
          ]
        },
        {
          "name": "stdout",
          "output_type": "stream",
          "text": [
            "\n",
            "Batch Prediction Results (first 10):\n"
          ]
        }
      ],
      "source": [
        "# Single image prediction\n",
        "sample_image = 'data/test/benign/ISIC_1431322.jpg';  # Replace with actual image path, e.g., 'data/test/benign/ISIC_1431322.jpg'\n",
        "if model:\n",
        "    result = predict_single_image(model, sample_image)\n",
        "    if result:\n",
        "        print(f\"Single Image Prediction: {result['image_path']}\")\n",
        "        print(f\"  Predicted: {result['prediction']}, Probability: {result['probability']:.4f}\")\n",
        "\n",
        "# Batch prediction\n",
        "predictions = predict_batch(model, test_dir, batch_size=32)\n",
        "print('\\nBatch Prediction Results (first 10):')\n",
        "for pred in predictions[:10]:\n",
        "    print(f\"Image: {pred['image_path']}, Predicted: {pred['prediction']}, Probability: {pred['probability']:.4f}\")"
      ]
    },
    {
      "cell_type": "markdown",
      "metadata": {
        "id": "QfOR9aKyN2f-"
      },
      "source": [
        "## Step 6: Retrain the Model\n",
        "\n",
        "Trigger retraining if new data is available or performance is below threshold (0.8)."
      ]
    },
    {
      "cell_type": "code",
      "execution_count": 6,
      "metadata": {
        "id": "7mgXzDj4N2f-"
      },
      "outputs": [],
      "source": [
        "if model:\n",
        "    model = trigger_retrain(model, new_data_dir, model_path, performance_threshold=0.8, test_dir=test_dir)\n",
        "    if model:\n",
        "        print('Retraining completed successfully.')\n",
        "    else:\n",
        "        print('Retraining failed.')"
      ]
    },
    {
      "cell_type": "markdown",
      "metadata": {
        "id": "jBP8EasnN2f-"
      },
      "source": [
        "## Step 7: Visualize Confusion Matrix (Chart.js)\n",
        "\n",
        "Create an interactive confusion matrix visualization using Chart.js. Note: Using 'bar' chart instead of 'matrix' to comply with allowed Chart.js types."
      ]
    },
    {
      "cell_type": "code",
      "execution_count": 7,
      "metadata": {
        "id": "09k6MuFLN2f-"
      },
      "outputs": [
        {
          "data": {
            "application/javascript": "if (metrics && metrics['confusion_matrix']) {\n    const cm = metrics['confusion_matrix'];\n    const ctx = document.createElement('canvas').getContext('2d');\n    document.body.appendChild(ctx.canvas);\n\n```chartjs\n{\n  \"type\": \"bar\",\n  \"data\": {\n    \"labels\": [\"True Benign, Pred Benign\", \"True Benign, Pred Malignant\", \"True Malignant, Pred Benign\", \"True Malignant, Pred Malignant\"],\n    \"datasets\": [{\n      \"label\": \"Confusion Matrix Counts\",\n      \"data\": [cm[0][0], cm[0][1], cm[1][0], cm[1][1]],\n      \"backgroundColor\": [\"rgba(54, 162, 235, 0.5)\", \"rgba(255, 99, 132, 0.5)\", \"rgba(75, 192, 192, 0.5)\", \"rgba(255, 205, 86, 0.5)\"],\n      \"borderColor\": [\"rgba(54, 162, 235, 1)\", \"rgba(255, 99, 132, 1)\", \"rgba(75, 192, 192, 1)\", \"rgba(255, 205, 86, 1)\"],\n      \"borderWidth\": 1\n    }]\n  },\n  \"options\": {\n    \"scales\": {\n      \"y\": {\n        \"beginAtZero\": true,\n        \"title\": { \"display\": true, \"text\": \"Count\" }\n      },\n      \"x\": {\n        \"title\": { \"display\": true, \"text\": \"Confusion Matrix Categories\" }\n      }\n    },\n    \"plugins\": {\n      \"title\": { \"display\": true, \"text\": \"Confusion Matrix\" }\n    }\n  }\n}\n```\n}\n",
            "text/plain": [
              "<IPython.core.display.Javascript object>"
            ]
          },
          "metadata": {},
          "output_type": "display_data"
        }
      ],
      "source": [
        "%%javascript\n",
        "if (metrics && metrics['confusion_matrix']) {\n",
        "    const cm = metrics['confusion_matrix'];\n",
        "    const ctx = document.createElement('canvas').getContext('2d');\n",
        "    document.body.appendChild(ctx.canvas);\n",
        "\n",
        "```chartjs\n",
        "{\n",
        "  \"type\": \"bar\",\n",
        "  \"data\": {\n",
        "    \"labels\": [\"True Benign, Pred Benign\", \"True Benign, Pred Malignant\", \"True Malignant, Pred Benign\", \"True Malignant, Pred Malignant\"],\n",
        "    \"datasets\": [{\n",
        "      \"label\": \"Confusion Matrix Counts\",\n",
        "      \"data\": [cm[0][0], cm[0][1], cm[1][0], cm[1][1]],\n",
        "      \"backgroundColor\": [\"rgba(54, 162, 235, 0.5)\", \"rgba(255, 99, 132, 0.5)\", \"rgba(75, 192, 192, 0.5)\", \"rgba(255, 205, 86, 0.5)\"],\n",
        "      \"borderColor\": [\"rgba(54, 162, 235, 1)\", \"rgba(255, 99, 132, 1)\", \"rgba(75, 192, 192, 1)\", \"rgba(255, 205, 86, 1)\"],\n",
        "      \"borderWidth\": 1\n",
        "    }]\n",
        "  },\n",
        "  \"options\": {\n",
        "    \"scales\": {\n",
        "      \"y\": {\n",
        "        \"beginAtZero\": true,\n",
        "        \"title\": { \"display\": true, \"text\": \"Count\" }\n",
        "      },\n",
        "      \"x\": {\n",
        "        \"title\": { \"display\": true, \"text\": \"Confusion Matrix Categories\" }\n",
        "      }\n",
        "    },\n",
        "    \"plugins\": {\n",
        "      \"title\": { \"display\": true, \"text\": \"Confusion Matrix\" }\n",
        "    }\n",
        "  }\n",
        "}\n",
        "```\n",
        "}"
      ]
    }
  ],
  "metadata": {
    "colab": {
      "provenance": []
    },
    "kernelspec": {
      "display_name": "venv",
      "language": "python",
      "name": "python3"
    },
    "language_info": {
      "codemirror_mode": {
        "name": "ipython",
        "version": 3
      },
      "file_extension": ".py",
      "mimetype": "text/x-python",
      "name": "python",
      "nbconvert_exporter": "python",
      "pygments_lexer": "ipython3",
      "version": "3.13.2"
    }
  },
  "nbformat": 4,
  "nbformat_minor": 0
}
